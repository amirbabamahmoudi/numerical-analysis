{
 "cells": [
  {
   "cell_type": "code",
   "execution_count": 6,
   "metadata": {},
   "outputs": [
    {
     "name": "stdout",
     "output_type": "stream",
     "text": [
      "time: 0.0007085800170898438\n",
      "[[ 4 -1  0  0]\n",
      " [-1  4 -1  0]\n",
      " [ 0 -1  4 -1]\n",
      " [ 0  0 -1  4]]\n"
     ]
    },
    {
     "name": "stderr",
     "output_type": "stream",
     "text": [
      "<ipython-input-6-76b42a8f16ef>:5: VisibleDeprecationWarning: Creating an ndarray from ragged nested sequences (which is a list-or-tuple of lists-or-tuples-or ndarrays with different lengths or shapes) is deprecated. If you meant to do this, you must specify 'dtype=object' when creating the ndarray\n",
      "  k = np.array([-np.ones(n-1),4*np.ones(n),-np.ones(n-1)])\n"
     ]
    }
   ],
   "source": [
    "import numpy as np\n",
    "from scipy.sparse import diags\n",
    "import time \n",
    "n=4\n",
    "k = np.array([-np.ones(n-1),4*np.ones(n),-np.ones(n-1)])\n",
    "offset = [-1,0,1]\n",
    "A = diags(k,offset).toarray()\n",
    "C=diags(k,offset).toarray()\n",
    "P=list()\n",
    "L=list()\n",
    "start=time.time()\n",
    "#permutation matrix and primary L\n",
    "for i in range(n):\n",
    "    I=np.identity(n)\n",
    "    for j in range(i+1,n):\n",
    "        if(abs(A[j,i])==max(abs(A[i:,i]))):\n",
    "            A[[i, j]] = A[[j, i]]\n",
    "            I[[i, j]] = I[[j, i]]\n",
    "            P.append(I)\n",
    "            \n",
    "    t=np.identity(n)\n",
    "    for j in range (i+1 , n):\n",
    "        c=-A[j,i]/A[i,i]\n",
    "        A[j,:]=c*A[i,:]+A[j,:]\n",
    "        t[j,i]=c\n",
    "                \n",
    "    L.append(t)    \n",
    "#finding L'    \n",
    "L_prime=list()\n",
    "p1=np.identity(n)\n",
    "p2=np.identity(n)\n",
    "for i in range(n-1):\n",
    "    if (P!=[]):\n",
    "        for j in range(i+1,n-1):\n",
    "            p1=P[j].dot(p1)\n",
    "            #print(\"p1\",p1)\n",
    "            p2=p2.dot(np.linalg.inv(P[j]))\n",
    "            #print(\"p2\",p2)\n",
    "    \n",
    "        T=(p1.dot(L[i])).dot(p2)\n",
    "        #print(T)\n",
    "    else:\n",
    "        T=L[i]\n",
    "       \n",
    "    L_prime.append(T)\n",
    "      \n",
    "#finding final L    \n",
    "lf=np.identity(n)\n",
    "for l in L_prime:\n",
    "    lf=l.dot(lf)\n",
    "    #print(\"lf\",lf)\n",
    "       \n",
    "L_final=np.linalg.inv(lf)\n",
    "end=time.time()\n",
    "print(\"time:\" , end-start)\n",
    "U=A\n",
    "print(L_final.dot(U).astype(int))\n"
   ]
  },
  {
   "cell_type": "code",
   "execution_count": null,
   "metadata": {},
   "outputs": [],
   "source": []
  },
  {
   "cell_type": "code",
   "execution_count": null,
   "metadata": {},
   "outputs": [],
   "source": []
  },
  {
   "cell_type": "code",
   "execution_count": null,
   "metadata": {},
   "outputs": [],
   "source": []
  },
  {
   "cell_type": "code",
   "execution_count": null,
   "metadata": {},
   "outputs": [],
   "source": []
  },
  {
   "cell_type": "code",
   "execution_count": null,
   "metadata": {},
   "outputs": [],
   "source": []
  },
  {
   "cell_type": "code",
   "execution_count": null,
   "metadata": {},
   "outputs": [],
   "source": []
  },
  {
   "cell_type": "code",
   "execution_count": null,
   "metadata": {},
   "outputs": [],
   "source": []
  },
  {
   "cell_type": "code",
   "execution_count": null,
   "metadata": {},
   "outputs": [],
   "source": []
  },
  {
   "cell_type": "code",
   "execution_count": null,
   "metadata": {},
   "outputs": [],
   "source": []
  },
  {
   "cell_type": "code",
   "execution_count": null,
   "metadata": {},
   "outputs": [],
   "source": []
  },
  {
   "cell_type": "code",
   "execution_count": null,
   "metadata": {},
   "outputs": [],
   "source": []
  }
 ],
 "metadata": {
  "kernelspec": {
   "display_name": "Python 3",
   "language": "python",
   "name": "python3"
  },
  "language_info": {
   "codemirror_mode": {
    "name": "ipython",
    "version": 3
   },
   "file_extension": ".py",
   "mimetype": "text/x-python",
   "name": "python",
   "nbconvert_exporter": "python",
   "pygments_lexer": "ipython3",
   "version": "3.8.3"
  }
 },
 "nbformat": 4,
 "nbformat_minor": 2
}
