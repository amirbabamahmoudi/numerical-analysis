{
 "cells": [
  {
   "cell_type": "code",
   "execution_count": 8,
   "metadata": {},
   "outputs": [
    {
     "name": "stdout",
     "output_type": "stream",
     "text": [
      "time: 0.00022840499877929688\n",
      "[[ 0.    0.    0.    0.  ]\n",
      " [-1.    0.25  0.    0.  ]\n",
      " [ 0.   -1.    0.25  0.  ]\n",
      " [ 0.    0.   -1.    0.25]]\n"
     ]
    },
    {
     "name": "stderr",
     "output_type": "stream",
     "text": [
      "<ipython-input-8-2400883b481e>:4: VisibleDeprecationWarning: Creating an ndarray from ragged nested sequences (which is a list-or-tuple of lists-or-tuples-or ndarrays with different lengths or shapes) is deprecated. If you meant to do this, you must specify 'dtype=object' when creating the ndarray\n",
      "  k = np.array([-np.ones(n-1),4*np.ones(n),-np.ones(n-1)])\n"
     ]
    }
   ],
   "source": [
    "from scipy.sparse import diags\n",
    "import time , numpy as np\n",
    "n=4\n",
    "k = np.array([-np.ones(n-1),4*np.ones(n),-np.ones(n-1)])\n",
    "offset = [-1,0,1]\n",
    "A = diags(k,offset).toarray()\n",
    "C=diags(k,offset).toarray()\n",
    "U=np.zeros([n, n])\n",
    "L=np.zeros([n, n])\n",
    "start=time.time()\n",
    "for r in range(n):\n",
    "    for j in range(r,n):\n",
    "        suml=0\n",
    "        sumu=0\n",
    "        for a in range(r-1):\n",
    "            suml=suml+L[r,a]\n",
    "        for b in range(r-1):\n",
    "            sumu=sumu+U[b,j]\n",
    "        \n",
    "        U[r,j]= A[r,j] - suml*sumu\n",
    "        \n",
    "        \n",
    "    for i in range(r+1,n):\n",
    "        suml=0\n",
    "        sumu=0\n",
    "        for a in range(r-1):\n",
    "            suml=suml+L[i,a]\n",
    "        for b in range(r-1):\n",
    "            sumu=sumu+U[b,r]\n",
    "        L[i,r]= 1/U[r,r] * ( A[i,r]- suml * sumu)\n",
    "end=time.time()\n",
    "print(\"time:\" , end - start)\n",
    "print(L.dot(U))"
   ]
  },
  {
   "cell_type": "code",
   "execution_count": 826,
   "metadata": {},
   "outputs": [],
   "source": []
  },
  {
   "cell_type": "code",
   "execution_count": null,
   "metadata": {},
   "outputs": [],
   "source": []
  },
  {
   "cell_type": "code",
   "execution_count": null,
   "metadata": {},
   "outputs": [],
   "source": []
  },
  {
   "cell_type": "code",
   "execution_count": null,
   "metadata": {},
   "outputs": [],
   "source": []
  },
  {
   "cell_type": "code",
   "execution_count": null,
   "metadata": {},
   "outputs": [],
   "source": []
  },
  {
   "cell_type": "code",
   "execution_count": null,
   "metadata": {},
   "outputs": [],
   "source": []
  },
  {
   "cell_type": "code",
   "execution_count": null,
   "metadata": {},
   "outputs": [],
   "source": []
  },
  {
   "cell_type": "code",
   "execution_count": null,
   "metadata": {},
   "outputs": [],
   "source": []
  }
 ],
 "metadata": {
  "kernelspec": {
   "display_name": "Python 3",
   "language": "python",
   "name": "python3"
  },
  "language_info": {
   "codemirror_mode": {
    "name": "ipython",
    "version": 3
   },
   "file_extension": ".py",
   "mimetype": "text/x-python",
   "name": "python",
   "nbconvert_exporter": "python",
   "pygments_lexer": "ipython3",
   "version": "3.8.3"
  }
 },
 "nbformat": 4,
 "nbformat_minor": 2
}
